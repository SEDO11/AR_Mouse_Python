{
 "cells": [
  {
   "attachments": {},
   "cell_type": "markdown",
   "metadata": {},
   "source": [
    "### 해당 프로그래밍은 python 3.8.10 버전으로 해야 모든 라이브러리가 옳바르게 설치 된다\n",
    "\n",
    "<a href=\"https://youtu.be/NZde8Xt78Iw\">\n",
    "핸드 트래킹 소스 영상 주소</a>\n",
    "\n",
    "<a href=\"https://www.youtube.com/watch?v=8tng9RsbXoU&ab_channel=Chronics\">버추얼 마우스 영상 주소</a>\n",
    "\n",
    "\n",
    "#### 필수 설치 라이브러리, 오류 날 수 있으니 순서대로 설치하는 것을 추천\n",
    "\n",
    "<a href=\"https://www.python.org/downloads/release/python-3810/\">\n",
    "파이썬 3.8.10</a><br>\n",
    "\n",
    "<a href=\"https://pypi.org/project/mediapipe/\">\n",
    "mediapipe</a><br>\n",
    "\n",
    "<a href=\"https://pypi.org/project/HandTrackingModule\">\n",
    "HandTrackingModule</a><br>\n",
    "\n",
    "<a href=\"https://pypi.org/project/autopy/\">\n",
    "autopy</a><br>\n",
    "<p>autopy 가 3.8까지만 지원 하므로 3.8.10을 이용해야 함</p>\n",
    "\n"
   ]
  }
 ],
 "metadata": {
  "kernelspec": {
   "display_name": "Python 3",
   "language": "python",
   "name": "python3"
  },
  "language_info": {
   "name": "python",
   "version": "3.8.10 (tags/v3.8.10:3d8993a, May  3 2021, 11:48:03) [MSC v.1928 64 bit (AMD64)]"
  },
  "orig_nbformat": 4,
  "vscode": {
   "interpreter": {
    "hash": "c90f298300d5c112ca67ad44bdf30352eb44557675b67e3771e296b3c57ee0aa"
   }
  }
 },
 "nbformat": 4,
 "nbformat_minor": 2
}
